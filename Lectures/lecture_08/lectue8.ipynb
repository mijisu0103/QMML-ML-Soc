{
  "cells": [
    {
      "cell_type": "markdown",
      "metadata": {
        "id": "RJItMl779l9K"
      },
      "source": [
        "## **Lecture 8: Fine-tuning an LLM**  \n",
        "\n",
        "Fine-tuning is the process of taking a pre-trained large language model (LLM) and further training it on a specific dataset to improve its performance on a targeted task. This allows the model to specialize while leveraging the vast knowledge it has already acquired during its initial training phase. Fine-tuning is particularly useful for domain-specific applications, improving chatbot interactions, and enhancing model efficiency.  \n",
        "\n",
        "### **Workshop Information**  \n",
        "\n",
        "This notebook is based on [Link 1](https://goo.gle/gemma-ft-workshop), which was part of a workshop held at the **Google Cloud office**. The session was led by **Gus Martins**, a former **Google Senior Developer and Project Manager** who worked directly on the **Gemma 2 model**. He is now part of **Google DeepMind**, where he continues to contribute to cutting-edge AI research. As such, this notebook includes content that is licensed under the Apache License 2.0. You may use, modify, and distribute this work under the terms of the license.\n",
        "\n",
        "@title Licensed under the Apache License, Version 2.0 (the \"License\");\n",
        "you may not use this file except in compliance with the License.\n",
        "You may obtain a copy of the License at\n",
        "\n",
        "https://www.apache.org/licenses/LICENSE-2.0\n",
        "\n",
        "Unless required by applicable law or agreed to in writing, software\n",
        "distributed under the License is distributed on an \"AS IS\" BASIS,\n",
        "WITHOUT WARRANTIES OR CONDITIONS OF ANY KIND, either express or implied.\n",
        "See the License for the specific language governing permissions and\n",
        "limitations under the License.\n",
        "\n",
        "Copyright 2024 Google LLC.\n",
        "\n",
        "\n",
        "\n",
        "### **Additional Resources**  \n",
        "For further learning, [Link 2](https://goo.gle/gemma-cookbook) provides a comprehensive set of resources to get started with **Gemma models**, covering topics such as fine-tuning, chatbot creation, and more.  \n",
        "\n",
        "To access **Gemma 2 models on Kaggle**, refer to [Link 3](https://www.kaggle.com/models/google/gemma-2).  \n",
        "\n",
        "For guidance on setting up **Gemma on Google Colab**, see [Link 4](https://ai.google.dev/gemma/docs/setup).  \n",
        "\n",
        "\n"
      ]
    },
    {
      "cell_type": "markdown",
      "metadata": {
        "id": "BjHF030im6Mr"
      },
      "source": [
        "### **Reminder**  \n",
        "This code is designed to run on **Google Colab**. If you're not using Colab, please set the environment variables as appropriate for your system."
      ]
    },
    {
      "cell_type": "code",
      "execution_count": null,
      "metadata": {
        "colab": {
          "base_uri": "https://localhost:8080/"
        },
        "id": "i-OiJP8ODDi3",
        "outputId": "4357390f-a21f-4e04-f428-ca5fd7fd92ee"
      },
      "outputs": [
        {
          "name": "stdout",
          "output_type": "stream",
          "text": [
            "Requirement already satisfied: fsspec==2024.9.0 in /usr/local/lib/python3.11/dist-packages (2024.9.0)\n"
          ]
        }
      ],
      "source": [
        "# Download some important resources\n",
        "!pip install fsspec==2024.9.0\n",
        "!pip install -q -U keras-nlp datasets\n",
        "!pip install -q -U keras"
      ]
    },
    {
      "cell_type": "code",
      "execution_count": null,
      "metadata": {
        "id": "jvzIiKpETA0F"
      },
      "outputs": [],
      "source": [
        "# Import relevant modules\n",
        "\n",
        "import os\n",
        "from google.colab import userdata, drive\n",
        "import time\n",
        "import keras_nlp\n",
        "import keras\n",
        "import kagglehub\n",
        "from kagglehub import KaggleDatasetAdapter\n",
        "import pandas as pd\n",
        "import matplotlib.pyplot as plt"
      ]
    },
    {
      "cell_type": "markdown",
      "metadata": {
        "id": "FYH6dDdwhBYT"
      },
      "source": [
        "## **Understanding APIs in AI Development**  \n",
        "\n",
        "An **API (Application Programming Interface)** is a set of rules and protocols that allows different software applications to communicate with each other. APIs enable seamless integration of services, making it easier to access and use external functionalities without needing to understand their internal workings.  \n",
        "\n",
        "### **API in Action – Colab & Kaggle**  \n",
        "In the code snippet below:  \n",
        "\n",
        "```python\n",
        "os.environ['KAGGLE_USERNAME'] = \"KAGGLE_USERNAME\"\n",
        "os.environ['KAGGLE_KEY'] = \"KAGGLE_KEY\"\n",
        "\n",
        "drive.mount(\"/content/drive\")\n",
        "\n",
        "```\n",
        "`os.environ['KAGGLE_USERNAME']` and `os.environ['KAGGLE_KEY']` set environment variables to authenticate with the **Kaggle API**, which is used to download datasets and models.  \n",
        "\n",
        "`drive.mount(\"/content/drive\")` uses **Google Colab's API** to connect and store files in **Google Drive**, allowing persistent storage of artifacts.  \n",
        "\n",
        "APIs like these are essential in AI workflows, automating authentication, data access, and storage integration with minimal effort. 🚀  \n",
        "\n"
      ]
    },
    {
      "cell_type": "code",
      "execution_count": null,
      "metadata": {
        "colab": {
          "base_uri": "https://localhost:8080/"
        },
        "id": "45DJDytJAuPc",
        "outputId": "0a871ac2-fe5f-496e-e191-aed407d9b9d5"
      },
      "outputs": [
        {
          "name": "stdout",
          "output_type": "stream",
          "text": [
            "Drive already mounted at /content/drive; to attempt to forcibly remount, call drive.mount(\"/content/drive\", force_remount=True).\n"
          ]
        }
      ],
      "source": [
        "from google.colab import userdata\n",
        "userdata.get('KAGGLE_USERNAME')\n",
        "userdata.get('KAGGLE_KEY')\n",
        "\n",
        "# Note: `userdata.get` is a Colab API. If you're not using Colab, set the env\n",
        "# vars as appropriate for your system.\n",
        "\n",
        "# os.environ['KAGGLE_USERNAME'] = \"KAGGLE_USERNAME\"\n",
        "# os.environ['KAGGLE_KEY'] = \"KAGGLE_KEY\"\n",
        "\n",
        "# Mounting gDrive for to store artifacts\n",
        "drive.mount(\"/content/drive\")"
      ]
    },
    {
      "cell_type": "markdown",
      "metadata": {
        "id": "OTa5YeZSiBHb"
      },
      "source": [
        "## **Set the backend, training configurations, and hyperparameters**\n",
        "\n",
        "This script configures the environment for training a model using the JAX backend with Keras. It ensures that JAX is set as the deep learning backend and optimizes memory usage to prevent fragmentation.  \n",
        "\n",
        "The training configurations define key hyperparameters:  \n",
        "- **`token_limit`** sets the maximum number of tokens per input.  \n",
        "- **`num_data_limit`** controls the number of data samples used.  \n",
        "- **`lora_name`** specifies the identifier for the LoRA (Low-Rank Adaptation) model.  \n",
        "- **`lora_rank`** determines the rank for LoRA fine-tuning, which affects parameter efficiency.  \n",
        "- **`lr_value`** sets the learning rate for optimization.  \n",
        "- **`train_epoch`** defines the number of training epochs.  \n",
        "- **`model_id`** indicates the specific model being fine-tuned, in this case, the Gemma 2 Instruct model.  \n",
        "\n"
      ]
    },
    {
      "cell_type": "code",
      "execution_count": null,
      "metadata": {
        "id": "fVQSwuJFDfmJ"
      },
      "outputs": [],
      "source": [
        "# Set the backbend before importing Keras\n",
        "os.environ[\"KERAS_BACKEND\"] = \"jax\"\n",
        "# Avoid memory fragmentation on JAX backend.\n",
        "os.environ[\"XLA_PYTHON_CLIENT_MEM_FRACTION\"] = \"1.00\"\n",
        "\n",
        "\n",
        "# Training Configurations\n",
        "token_limit = 128\n",
        "num_data_limit = 100\n",
        "lora_name = \"my_lora\"\n",
        "lora_rank = 4\n",
        "lr_value = 1e-3\n",
        "train_epoch = 5 # Reduced from 10 for better performance\n",
        "model_id = \"gemma2_instruct_2b_en\""
      ]
    },
    {
      "cell_type": "markdown",
      "metadata": {
        "id": "De_YMltjipDh"
      },
      "source": [
        "## **Understanding the Model Architecture and Numbers**  \n",
        "\n",
        "This breakdown provides key insights into the structure and complexity of the **Gemma Causal Language Model (LLM)** and its tokenizer.  \n",
        "\n",
        "#### **Preprocessor**  \n",
        "- **`gemma_tokenizer` (GemmaTokenizer)**: The tokenizer converts text into numerical tokens using a **vocabulary size of 256,000**, meaning the model can recognize and process up to **256K unique tokens (words, subwords, or characters).**  \n",
        "\n",
        "#### **Model Components**  \n",
        "- **`padding_mask` (InputLayer)**: Handles padding to ensure uniform input sequence length. It has **0 parameters** since it does not require learning.  \n",
        "- **`token_ids` (InputLayer)**: Takes tokenized input sequences, also with **0 parameters.**  \n",
        "- **`gemma_backbone` (GemmaBackbone)**:  \n",
        "  - Outputs a tensor of shape **(None, None, 2304)**, meaning for each token, the model produces a **2304-dimensional embedding**.  \n",
        "  - Contains **2.61 billion parameters**, making it the largest component of the model. These parameters define the core neural network architecture.  \n",
        "- **`token_embedding` (ReversibleEmbedding)**:  \n",
        "  - Outputs a tensor of shape **(None, None, 256000)**, mapping token embeddings back into the vocabulary space.  \n",
        "  - Has **589.8 million parameters**, responsible for learning token representations.  \n",
        "\n",
        "#### **Total Parameters**  \n",
        "- **Total parameters**: **2.61 billion (≈9.74 GB of memory usage).**  \n",
        "- **Trainable parameters**: **All 2.61 billion are trainable**, meaning every part of the model can be fine-tuned.  \n",
        "- **Non-trainable parameters**: **0**, indicating there are no frozen layers.  \n"
      ]
    },
    {
      "cell_type": "code",
      "execution_count": null,
      "metadata": {
        "colab": {
          "base_uri": "https://localhost:8080/",
          "height": 427
        },
        "id": "1Q6RniZADnvZ",
        "outputId": "4608fa0e-8bda-4f26-ecb0-26fd57b64814"
      },
      "outputs": [
        {
          "data": {
            "text/html": [
              "<pre style=\"white-space:pre;overflow-x:auto;line-height:normal;font-family:Menlo,'DejaVu Sans Mono',consolas,'Courier New',monospace\"><span style=\"font-weight: bold\">Preprocessor: \"gemma_causal_lm_preprocessor\"</span>\n",
              "</pre>\n"
            ],
            "text/plain": [
              "\u001b[1mPreprocessor: \"gemma_causal_lm_preprocessor\"\u001b[0m\n"
            ]
          },
          "metadata": {},
          "output_type": "display_data"
        },
        {
          "data": {
            "text/html": [
              "<pre style=\"white-space:pre;overflow-x:auto;line-height:normal;font-family:Menlo,'DejaVu Sans Mono',consolas,'Courier New',monospace\">┏━━━━━━━━━━━━━━━━━━━━━━━━━━━━━━━━━━━━━━━━━━━━━━━━━━━━━━━━━━━━━━━┳━━━━━━━━━━━━━━━━━━━━━━━━━━━━━━━━━━━━━━━━━━┓\n",
              "┃<span style=\"font-weight: bold\"> Layer (type)                                                  </span>┃<span style=\"font-weight: bold\">                                   Config </span>┃\n",
              "┡━━━━━━━━━━━━━━━━━━━━━━━━━━━━━━━━━━━━━━━━━━━━━━━━━━━━━━━━━━━━━━━╇━━━━━━━━━━━━━━━━━━━━━━━━━━━━━━━━━━━━━━━━━━┩\n",
              "│ gemma_tokenizer (<span style=\"color: #0087ff; text-decoration-color: #0087ff\">GemmaTokenizer</span>)                              │                      Vocab size: <span style=\"color: #00af00; text-decoration-color: #00af00\">256,000</span> │\n",
              "└───────────────────────────────────────────────────────────────┴──────────────────────────────────────────┘\n",
              "</pre>\n"
            ],
            "text/plain": [
              "┏━━━━━━━━━━━━━━━━━━━━━━━━━━━━━━━━━━━━━━━━━━━━━━━━━━━━━━━━━━━━━━━┳━━━━━━━━━━━━━━━━━━━━━━━━━━━━━━━━━━━━━━━━━━┓\n",
              "┃\u001b[1m \u001b[0m\u001b[1mLayer (type)                                                 \u001b[0m\u001b[1m \u001b[0m┃\u001b[1m \u001b[0m\u001b[1m                                  Config\u001b[0m\u001b[1m \u001b[0m┃\n",
              "┡━━━━━━━━━━━━━━━━━━━━━━━━━━━━━━━━━━━━━━━━━━━━━━━━━━━━━━━━━━━━━━━╇━━━━━━━━━━━━━━━━━━━━━━━━━━━━━━━━━━━━━━━━━━┩\n",
              "│ gemma_tokenizer (\u001b[38;5;33mGemmaTokenizer\u001b[0m)                              │                      Vocab size: \u001b[38;5;34m256,000\u001b[0m │\n",
              "└───────────────────────────────────────────────────────────────┴──────────────────────────────────────────┘\n"
            ]
          },
          "metadata": {},
          "output_type": "display_data"
        },
        {
          "data": {
            "text/html": [
              "<pre style=\"white-space:pre;overflow-x:auto;line-height:normal;font-family:Menlo,'DejaVu Sans Mono',consolas,'Courier New',monospace\"><span style=\"font-weight: bold\">Model: \"gemma_causal_lm\"</span>\n",
              "</pre>\n"
            ],
            "text/plain": [
              "\u001b[1mModel: \"gemma_causal_lm\"\u001b[0m\n"
            ]
          },
          "metadata": {},
          "output_type": "display_data"
        },
        {
          "data": {
            "text/html": [
              "<pre style=\"white-space:pre;overflow-x:auto;line-height:normal;font-family:Menlo,'DejaVu Sans Mono',consolas,'Courier New',monospace\">┏━━━━━━━━━━━━━━━━━━━━━━━━━━━━━━━┳━━━━━━━━━━━━━━━━━━━━━━━━━━━┳━━━━━━━━━━━━━━━━━┳━━━━━━━━━━━━━━━━━━━━━━━━━━━━┓\n",
              "┃<span style=\"font-weight: bold\"> Layer (type)                  </span>┃<span style=\"font-weight: bold\"> Output Shape              </span>┃<span style=\"font-weight: bold\">         Param # </span>┃<span style=\"font-weight: bold\"> Connected to               </span>┃\n",
              "┡━━━━━━━━━━━━━━━━━━━━━━━━━━━━━━━╇━━━━━━━━━━━━━━━━━━━━━━━━━━━╇━━━━━━━━━━━━━━━━━╇━━━━━━━━━━━━━━━━━━━━━━━━━━━━┩\n",
              "│ padding_mask (<span style=\"color: #0087ff; text-decoration-color: #0087ff\">InputLayer</span>)     │ (<span style=\"color: #00d7ff; text-decoration-color: #00d7ff\">None</span>, <span style=\"color: #00d7ff; text-decoration-color: #00d7ff\">None</span>)              │               <span style=\"color: #00af00; text-decoration-color: #00af00\">0</span> │ -                          │\n",
              "├───────────────────────────────┼───────────────────────────┼─────────────────┼────────────────────────────┤\n",
              "│ token_ids (<span style=\"color: #0087ff; text-decoration-color: #0087ff\">InputLayer</span>)        │ (<span style=\"color: #00d7ff; text-decoration-color: #00d7ff\">None</span>, <span style=\"color: #00d7ff; text-decoration-color: #00d7ff\">None</span>)              │               <span style=\"color: #00af00; text-decoration-color: #00af00\">0</span> │ -                          │\n",
              "├───────────────────────────────┼───────────────────────────┼─────────────────┼────────────────────────────┤\n",
              "│ gemma_backbone                │ (<span style=\"color: #00d7ff; text-decoration-color: #00d7ff\">None</span>, <span style=\"color: #00d7ff; text-decoration-color: #00d7ff\">None</span>, <span style=\"color: #00af00; text-decoration-color: #00af00\">2304</span>)        │   <span style=\"color: #00af00; text-decoration-color: #00af00\">2,614,341,888</span> │ padding_mask[<span style=\"color: #00af00; text-decoration-color: #00af00\">0</span>][<span style=\"color: #00af00; text-decoration-color: #00af00\">0</span>],        │\n",
              "│ (<span style=\"color: #0087ff; text-decoration-color: #0087ff\">GemmaBackbone</span>)               │                           │                 │ token_ids[<span style=\"color: #00af00; text-decoration-color: #00af00\">0</span>][<span style=\"color: #00af00; text-decoration-color: #00af00\">0</span>]            │\n",
              "├───────────────────────────────┼───────────────────────────┼─────────────────┼────────────────────────────┤\n",
              "│ token_embedding               │ (<span style=\"color: #00d7ff; text-decoration-color: #00d7ff\">None</span>, <span style=\"color: #00d7ff; text-decoration-color: #00d7ff\">None</span>, <span style=\"color: #00af00; text-decoration-color: #00af00\">256000</span>)      │     <span style=\"color: #00af00; text-decoration-color: #00af00\">589,824,000</span> │ gemma_backbone[<span style=\"color: #00af00; text-decoration-color: #00af00\">0</span>][<span style=\"color: #00af00; text-decoration-color: #00af00\">0</span>]       │\n",
              "│ (<span style=\"color: #0087ff; text-decoration-color: #0087ff\">ReversibleEmbedding</span>)         │                           │                 │                            │\n",
              "└───────────────────────────────┴───────────────────────────┴─────────────────┴────────────────────────────┘\n",
              "</pre>\n"
            ],
            "text/plain": [
              "┏━━━━━━━━━━━━━━━━━━━━━━━━━━━━━━━┳━━━━━━━━━━━━━━━━━━━━━━━━━━━┳━━━━━━━━━━━━━━━━━┳━━━━━━━━━━━━━━━━━━━━━━━━━━━━┓\n",
              "┃\u001b[1m \u001b[0m\u001b[1mLayer (type)                 \u001b[0m\u001b[1m \u001b[0m┃\u001b[1m \u001b[0m\u001b[1mOutput Shape             \u001b[0m\u001b[1m \u001b[0m┃\u001b[1m \u001b[0m\u001b[1m        Param #\u001b[0m\u001b[1m \u001b[0m┃\u001b[1m \u001b[0m\u001b[1mConnected to              \u001b[0m\u001b[1m \u001b[0m┃\n",
              "┡━━━━━━━━━━━━━━━━━━━━━━━━━━━━━━━╇━━━━━━━━━━━━━━━━━━━━━━━━━━━╇━━━━━━━━━━━━━━━━━╇━━━━━━━━━━━━━━━━━━━━━━━━━━━━┩\n",
              "│ padding_mask (\u001b[38;5;33mInputLayer\u001b[0m)     │ (\u001b[38;5;45mNone\u001b[0m, \u001b[38;5;45mNone\u001b[0m)              │               \u001b[38;5;34m0\u001b[0m │ -                          │\n",
              "├───────────────────────────────┼───────────────────────────┼─────────────────┼────────────────────────────┤\n",
              "│ token_ids (\u001b[38;5;33mInputLayer\u001b[0m)        │ (\u001b[38;5;45mNone\u001b[0m, \u001b[38;5;45mNone\u001b[0m)              │               \u001b[38;5;34m0\u001b[0m │ -                          │\n",
              "├───────────────────────────────┼───────────────────────────┼─────────────────┼────────────────────────────┤\n",
              "│ gemma_backbone                │ (\u001b[38;5;45mNone\u001b[0m, \u001b[38;5;45mNone\u001b[0m, \u001b[38;5;34m2304\u001b[0m)        │   \u001b[38;5;34m2,614,341,888\u001b[0m │ padding_mask[\u001b[38;5;34m0\u001b[0m][\u001b[38;5;34m0\u001b[0m],        │\n",
              "│ (\u001b[38;5;33mGemmaBackbone\u001b[0m)               │                           │                 │ token_ids[\u001b[38;5;34m0\u001b[0m][\u001b[38;5;34m0\u001b[0m]            │\n",
              "├───────────────────────────────┼───────────────────────────┼─────────────────┼────────────────────────────┤\n",
              "│ token_embedding               │ (\u001b[38;5;45mNone\u001b[0m, \u001b[38;5;45mNone\u001b[0m, \u001b[38;5;34m256000\u001b[0m)      │     \u001b[38;5;34m589,824,000\u001b[0m │ gemma_backbone[\u001b[38;5;34m0\u001b[0m][\u001b[38;5;34m0\u001b[0m]       │\n",
              "│ (\u001b[38;5;33mReversibleEmbedding\u001b[0m)         │                           │                 │                            │\n",
              "└───────────────────────────────┴───────────────────────────┴─────────────────┴────────────────────────────┘\n"
            ]
          },
          "metadata": {},
          "output_type": "display_data"
        },
        {
          "data": {
            "text/html": [
              "<pre style=\"white-space:pre;overflow-x:auto;line-height:normal;font-family:Menlo,'DejaVu Sans Mono',consolas,'Courier New',monospace\"><span style=\"font-weight: bold\"> Total params: </span><span style=\"color: #00af00; text-decoration-color: #00af00\">2,614,341,888</span> (9.74 GB)\n",
              "</pre>\n"
            ],
            "text/plain": [
              "\u001b[1m Total params: \u001b[0m\u001b[38;5;34m2,614,341,888\u001b[0m (9.74 GB)\n"
            ]
          },
          "metadata": {},
          "output_type": "display_data"
        },
        {
          "data": {
            "text/html": [
              "<pre style=\"white-space:pre;overflow-x:auto;line-height:normal;font-family:Menlo,'DejaVu Sans Mono',consolas,'Courier New',monospace\"><span style=\"font-weight: bold\"> Trainable params: </span><span style=\"color: #00af00; text-decoration-color: #00af00\">2,614,341,888</span> (9.74 GB)\n",
              "</pre>\n"
            ],
            "text/plain": [
              "\u001b[1m Trainable params: \u001b[0m\u001b[38;5;34m2,614,341,888\u001b[0m (9.74 GB)\n"
            ]
          },
          "metadata": {},
          "output_type": "display_data"
        },
        {
          "data": {
            "text/html": [
              "<pre style=\"white-space:pre;overflow-x:auto;line-height:normal;font-family:Menlo,'DejaVu Sans Mono',consolas,'Courier New',monospace\"><span style=\"font-weight: bold\"> Non-trainable params: </span><span style=\"color: #00af00; text-decoration-color: #00af00\">0</span> (0.00 B)\n",
              "</pre>\n"
            ],
            "text/plain": [
              "\u001b[1m Non-trainable params: \u001b[0m\u001b[38;5;34m0\u001b[0m (0.00 B)\n"
            ]
          },
          "metadata": {},
          "output_type": "display_data"
        }
      ],
      "source": [
        "gemma_lm = keras_nlp.models.GemmaCausalLM.from_preset(model_id) # Load the model\n",
        "gemma_lm.summary() # Gemma 2 model summary\n",
        "\n",
        "tick_start = 0\n",
        "\n",
        "def tick():\n",
        "    global tick_start\n",
        "    tick_start = time.time()\n",
        "\n",
        "def tock():\n",
        "    print(f\"TOTAL TIME ELAPSED: {time.time() - tick_start:.2f}s\")\n",
        "\n",
        "\n",
        "# Format the model to complete a conversation (Prompt engineering)\n",
        "\n",
        "def text_gen(prompt):\n",
        "    tick()\n",
        "    input = f\"user\\n{prompt}\\nmodel\\n\"\n",
        "    output = gemma_lm.generate(input, max_length=token_limit)\n",
        "    print(\"\\nGemma output:\")\n",
        "    print(output)\n",
        "    tock()"
      ]
    },
    {
      "cell_type": "code",
      "execution_count": null,
      "metadata": {
        "colab": {
          "base_uri": "https://localhost:8080/"
        },
        "id": "tE6oqmgTDwf4",
        "outputId": "6c4f1d58-9120-4f2d-84b1-c1c5e9e6fcbb"
      },
      "outputs": [
        {
          "name": "stdout",
          "output_type": "stream",
          "text": [
            "\n",
            "Gemma output:\n",
            "user\n",
            "Make the following sentence more romantic.\n",
            "\"Hi, do you want to go out?\"\n",
            "model\n",
            "Here are a few ways to make the sentence \"Hi, do you want to go out?\" more romantic, depending on the tone you're going for:\n",
            "\n",
            "**Playful & Flirty:**\n",
            "\n",
            "* \"Fancy a night out? 😉\"\n",
            "* \"I was thinking of checking out [place]. Want to join me?\"\n",
            "* \"I'd love to take you out sometime. What do you say?\"\n",
            "\n",
            "**Sweet & Suggestive:**\n",
            "\n",
            "* \"I've been wanting to try that\n",
            "TOTAL TIME ELAPSED: 47.76s\n",
            "\n",
            "Gemma output:\n",
            "user\n",
            "Speak like a pirate. What is Saint Valentine's day\n",
            "model\n",
            "Ahoy, matey!  Ye be askin' 'bout Saint Valentine's Day, eh?  Shiver me timbers, it be a day for love, like a mermaid's song! \n",
            "\n",
            "It be a day for the landlubbers to show their love for their sweethearts, like a treasure chest full o' jewels.  They write letters, give gifts, and maybe even share a kiss, like a pirate kissin' a mermaid! \n",
            "\n",
            "But beware, me hearties!  Some landlubbers be\n",
            "TOTAL TIME ELAPSED: 34.19s\n",
            "\n",
            "Gemma output:\n",
            "user\n",
            "Write a love poem\n",
            "model\n",
            "Your laughter, a melody that dances in my ear,\n",
            "A symphony of joy, chasing away all fear.\n",
            "Your eyes, twin pools of starlight, shimmering bright,\n",
            "Reflecting a love that burns with endless light.\n",
            "\n",
            "Your touch, a featherlight caress, a gentle breeze,\n",
            "Whispering secrets only our hearts can seize.\n",
            "Your voice, a soothing balm, a lullaby so sweet,\n",
            "Guiding me through darkness, making my spirit complete.\n",
            "\n",
            "With every passing moment, my love for you grows strong,\n",
            "A vibrant tapestry woven, where we both belong.\n",
            "TOTAL TIME ELAPSED: 36.39s\n"
          ]
        }
      ],
      "source": [
        "# Inference before fine-tuning. Let's look at some examples!\n",
        "text_gen(\"Make the following sentence more romantic.\\n\\\"Hi, do you want to go out?\\\"\")\n",
        "text_gen(\"Speak like a pirate. What is Saint Valentine's day\")\n",
        "text_gen(\"Write a love poem\")"
      ]
    },
    {
      "cell_type": "markdown",
      "metadata": {
        "id": "y1nWakmbjkiH"
      },
      "source": [
        "### **What is a Tokenizer?**  \n",
        "\n",
        "A tokenizer converts human language into numerical tokens that AI models can process. It acts as a translator between words and the numerical format LLMs understand.  \n",
        "\n",
        "#### **Gemma Tokenizer**  \n",
        "- Based on **SentencePiece**, it learns optimal subword segmentation based on a **fixed 256K vocabulary**.  \n",
        "- Uses **byte-level encoding**, enabling support for all languages, including those with complex writing systems (e.g., Chinese, Japanese, Korean).  \n",
        "- A large vocabulary improves performance on diverse tasks, including multilingual text processing.  \n"
      ]
    },
    {
      "cell_type": "code",
      "execution_count": null,
      "metadata": {
        "colab": {
          "base_uri": "https://localhost:8080/"
        },
        "id": "FDm3uGJ5EgLN",
        "outputId": "24138465-b645-448f-8578-4d7ee5cce9d7"
      },
      "outputs": [
        {
          "name": "stdout",
          "output_type": "stream",
          "text": [
            "tf.Tensor(\n",
            "[  2045    791   1125  10920 235269    970 160976 235269    832   1593\n",
            "   1450   4868    578  24615   2705 235265   1927    590   4880   2182\n",
            " 235269    692   6293    665    577    682 235269  14062    692 235341], shape=(30,), dtype=int32)\n",
            "  2045 -> You\n",
            "   791 ->  have\n",
            "  1125 ->  been\n",
            " 10920 ->  wonderful\n",
            "235269 -> ,\n",
            "   970 ->  my\n",
            "160976 ->  Juliette\n",
            "235269 -> ,\n",
            "   832 ->  all\n",
            "  1593 ->  through\n",
            "  1450 ->  these\n",
            "  4868 ->  dark\n",
            "   578 ->  and\n",
            " 24615 ->  violent\n",
            "  2705 ->  days\n",
            "235265 -> .\n",
            "  1927 ->  If\n",
            "   590 ->  I\n",
            "  4880 ->  needed\n",
            "  2182 ->  love\n",
            "235269 -> ,\n",
            "   692 ->  you\n",
            "  6293 ->  brought\n",
            "   665 ->  it\n",
            "   577 ->  to\n",
            "   682 ->  me\n",
            "235269 -> ,\n",
            " 14062 ->  bless\n",
            "   692 ->  you\n",
            "235341 -> !\n",
            "\n",
            "tf.Tensor([24911 14715   603  2245 27787], shape=(5,), dtype=int32)\n",
            " 24911 -> Machine\n",
            " 14715 ->  Learning\n",
            "   603 ->  is\n",
            "  2245 ->  fun\n",
            " 27787 -> !.\n"
          ]
        }
      ],
      "source": [
        "tokenizer = keras_nlp.models.GemmaTokenizer.from_preset(model_id)\n",
        "import jax\n",
        "\n",
        "def detoken(tokens):\n",
        "  print(tokens)\n",
        "  for x in tokens:\n",
        "    word = tokenizer.detokenize(jax.numpy.array([x]))\n",
        "    print(f\"{x:6} -> {word}\")\n",
        "\n",
        "# (example text: “Hi, Nice to meet you. The weather is really nice today.”)\n",
        "detoken(tokenizer(\"You have been wonderful, my Juliette, all through these dark and violent days. If I needed love, you brought it to me, bless you!\"))\n",
        "print()\n",
        "detoken(tokenizer(\"Machine Learning is fun!.\"))"
      ]
    },
    {
      "cell_type": "markdown",
      "metadata": {
        "id": "vkjagFRGkB9-"
      },
      "source": [
        "### **Kaggle Love Letters Dataset**  \n",
        "\n",
        "This dataset contains text files with real love letters written by individuals in the past. It will be used to fine-tune the model, enabling it to respond in a more romantic style or generate romantic letters. By training the model on this specific type of text, we can guide it to produce responses that align with the tone, sentiment, and language of love letters. 💌  \n"
      ]
    },
    {
      "cell_type": "code",
      "execution_count": null,
      "metadata": {
        "colab": {
          "base_uri": "https://localhost:8080/"
        },
        "id": "6DvVWLkW8c5b",
        "outputId": "1086b7af-89d5-4ffe-8290-d3dc88198617"
      },
      "outputs": [
        {
          "name": "stdout",
          "output_type": "stream",
          "text": [
            "Path to dataset files: /kaggle/input/love-letters\n"
          ]
        }
      ],
      "source": [
        "\n",
        "# Download latest version\n",
        "path = kagglehub.dataset_download(\"fillerink/love-letters\")\n",
        "\n",
        "print(\"Path to dataset files:\", path)"
      ]
    },
    {
      "cell_type": "code",
      "execution_count": null,
      "metadata": {
        "colab": {
          "base_uri": "https://localhost:8080/"
        },
        "id": "YS08Z3F4FaqV",
        "outputId": "dfe577fe-3e12-4da6-8ef7-26d762d3e399"
      },
      "outputs": [
        {
          "name": "stdout",
          "output_type": "stream",
          "text": [
            "Total number of love letters: 88\n",
            "\n",
            "Letter 1 (first 200 characters):\n",
            "My letters will have shown you how lovely I am. I don’t dine at Court, I see few people, and take my walks alone, and at every beautiful \n",
            "spot I wish you were there.\n",
            "I can’t help loving you more than \n",
            "\n",
            "Letter 2 (first 200 characters):\n",
            "To Peter Abelard:\n",
            "I have your picture in my room. I never pass by it without stopping to look at it; and yet when you were present with me, \n",
            "I scare ever cast my eyes upon it. If a picture which is bu\n",
            "\n",
            "Letter 3 (first 200 characters):\n",
            "My angel, my all, my very self — only a few words today and at that with your pencil — not till tomorrow will my lodgings be definitely \n",
            "determined upon — what a useless waste of time. Why this deep s\n"
          ]
        }
      ],
      "source": [
        "import os\n",
        "\n",
        "def load_text_files(directory):\n",
        "    \"\"\"\n",
        "    Load all .txt files from a given directory into a list\n",
        "\n",
        "    Args:\n",
        "        directory (str): Path to the directory containing text files\n",
        "\n",
        "    Returns:\n",
        "        list: A list of strings, each string being the content of a text file\n",
        "    \"\"\"\n",
        "    # List to store file contents\n",
        "    love_letters = []\n",
        "\n",
        "    # Walk through the directory\n",
        "    for root, dirs, files in os.walk(directory):\n",
        "        for file in files:\n",
        "            # Check if the file is a .txt file\n",
        "            if file.endswith('.txt'):\n",
        "                # Construct full file path\n",
        "                file_path = os.path.join(root, file)\n",
        "\n",
        "                # Read the file content\n",
        "                try:\n",
        "                    with open(file_path, 'r', encoding='utf-8') as f:\n",
        "                        content = f.read()\n",
        "                        love_letters.append(content)\n",
        "                except Exception as e:\n",
        "                    print(f\"Error reading file {file_path}: {e}\")\n",
        "\n",
        "    return love_letters\n",
        "\n",
        "# Load the text files\n",
        "love_letters = load_text_files(path)\n",
        "\n",
        "# Print some basic information\n",
        "print(f\"Total number of love letters: {len(love_letters)}\")\n",
        "\n",
        "# Optional: Print the first few letters to verify\n",
        "for i, letter in enumerate(love_letters[:3], 1):\n",
        "    print(f\"\\nLetter {i} (first 200 characters):\")\n",
        "    print(letter[:200])"
      ]
    },
    {
      "cell_type": "code",
      "execution_count": null,
      "metadata": {
        "colab": {
          "base_uri": "https://localhost:8080/"
        },
        "id": "OMLmxZoIGJFH",
        "outputId": "fa4aa792-aeb8-4b11-a249-beab03985639"
      },
      "outputs": [
        {
          "name": "stdout",
          "output_type": "stream",
          "text": [
            "14\n",
            "user\n",
            "Explain something interesting to me.\n",
            "model\n",
            "To Peter Abelard:\n",
            "I have your picture in my room. I never pass by it without stopping to look at it; and yet when you were present with me, \n",
            "I scare ever cast my eyes upon it. If a picture which is but a mute representation of an object can give such pleasure, what \n",
            "cannot letters inspire? They have souls, they can speak, they have in them all that force which expresses the transport of the \n",
            "heart; they have all the fire of our passions….\n",
            "Heloise\n",
            "\n",
            "user\n",
            "Explain something interesting to me.\n",
            "model\n",
            "…it is so easy a thing for you to lift me to Seventh Heaven!  My soul was darker than midnight, when your pen said \n",
            "“let there be light.”  and there was light as at the bidding of the Word…  When I read in your looks and words that you love me, \n",
            "I feel it in the deepest part of my soul; and then I care not one straw for the whole Universe beside…\n",
            "\n",
            "user\n",
            "Explain something interesting to me.\n",
            "model\n",
            "Our love will bloom always fairer, fresher, more gracious, because it is a true love, and because genuine love is ever increasing.\n",
            "It is a beautiful plant growing from year to year in the heart, ever extending its palms and branches, doubling every \n",
            "season its glorious clusters and perfumes; and, my dear life, tell me, repeat to me always, that nothing will bruise its \n",
            "bark or its delicate leaves, that it will grow larger in both our hearts, loved, free, watched over, like a life within our life…\n"
          ]
        }
      ],
      "source": [
        "# Let's have a look at the training dataset\n",
        "\n",
        "tokenizer = keras_nlp.models.GemmaTokenizer.from_preset(model_id)\n",
        "\n",
        "train = []\n",
        "\n",
        "for x in love_letters:\n",
        "  item = f\"user\\nExplain something interesting to me.\\nmodel\\n{x}\"\n",
        "  length = len(tokenizer(item))\n",
        "  # skip data if the token length is longer than our limit\n",
        "  if length < token_limit:\n",
        "    train.append(item)\n",
        "    if(len(train)>=num_data_limit):\n",
        "      break\n",
        "\n",
        "print(len(train))\n",
        "print(train[0])\n",
        "print()\n",
        "print(train[1])\n",
        "print()\n",
        "print(train[2])"
      ]
    },
    {
      "cell_type": "markdown",
      "metadata": {
        "id": "_CRM6Telka3H"
      },
      "source": [
        "## **Understanding LoRA (Low-Rank Adaptation)**  \n",
        "\n",
        "LoRA is a technique for efficiently fine-tuning large models by introducing trainable low-rank matrices into the model architecture. Instead of updating the entire model, LoRA introduces smaller, trainable matrices to approximate the changes needed for fine-tuning. These matrices are of low rank, meaning they have fewer parameters than the original weight matrices, making the fine-tuning process more memory-efficient and faster.  \n",
        "\n",
        "The key idea is that instead of modifying all of the model's parameters during fine-tuning, LoRA modifies only these small, low-rank matrices, which results in more efficient training.  \n",
        "\n",
        "### **LoRA on Gemma Model**  \n",
        "\n",
        "Enabling **LoRA** on the **Gemma model backbone** and setting the **LoRA rank** to 4 controls the size of the low-rank matrices. A lower rank means fewer parameters, which leads to a more memory-efficient model.\n",
        "\n",
        "### **Model Summary:**\n",
        "\n",
        "The model has **2.62 billion parameters**, with **2.93 million trainable parameters** and **2.61 billion non-trainable parameters** (which are the pre-trained parts). These parameters define the layers, output shapes, and connectivity within the model, allowing for advanced language processing tasks.\n",
        "\n",
        "### **Sequence Length Limitation:**\n",
        "\n",
        "To control memory usage and avoid overwhelming system resources, the input sequence length is limited to a set value. This ensures that the model handles inputs of varying lengths efficiently.\n",
        "\n",
        "### **Optimizer Setup:**\n",
        "\n",
        "An **AdamW optimizer** is used during training, featuring a learning rate and weight decay for regularization. Weight decay helps prevent overfitting by penalizing large weights, ensuring the model generalizes well.\n",
        "\n",
        "### **Excluding Layers from Weight Decay:**\n",
        "\n",
        "Bias and scale terms are excluded from weight decay since they are typically less prone to overfitting, allowing the model to focus on the more critical parameters for optimization.\n",
        "\n",
        "### **Model Compilation:**\n",
        "\n",
        "The model is compiled with:\n",
        "- **SparseCategoricalCrossentropy** as the loss function, ideal for multi-class classification tasks.\n",
        "- **AdamW** as the optimizer, designed to optimize training effectively.\n",
        "- **SparseCategoricalAccuracy** as a metric to measure the model's performance during training.\n",
        "\n",
        "### **Model Architecture Summary:**\n",
        "- **Tokenizer**: Uses a **256,000-token vocabulary** to process input text.\n",
        "- **Gemma Backbone**: Generates embeddings with **2.62 billion parameters**.\n",
        "- **Token Embedding**: Maps token embeddings to the output vocabulary space with **589.8 million parameters**.\n",
        "\n",
        "Note that enabling LoRA reduces the number of trainable parameters significantly.\n",
        "\n",
        "From 2,617,270,528 to 2,928,640\n",
        "\n",
        "To monitor the learning progress, you will evaluate the model at the end of each epoch and save the lora weights.\n"
      ]
    },
    {
      "cell_type": "code",
      "execution_count": null,
      "metadata": {
        "colab": {
          "base_uri": "https://localhost:8080/",
          "height": 427
        },
        "id": "tUPhtI7uGZFX",
        "outputId": "ca18e354-9457-420b-9acf-d174496cd1aa"
      },
      "outputs": [
        {
          "data": {
            "text/html": [
              "<pre style=\"white-space:pre;overflow-x:auto;line-height:normal;font-family:Menlo,'DejaVu Sans Mono',consolas,'Courier New',monospace\"><span style=\"font-weight: bold\">Preprocessor: \"gemma_causal_lm_preprocessor\"</span>\n",
              "</pre>\n"
            ],
            "text/plain": [
              "\u001b[1mPreprocessor: \"gemma_causal_lm_preprocessor\"\u001b[0m\n"
            ]
          },
          "metadata": {},
          "output_type": "display_data"
        },
        {
          "data": {
            "text/html": [
              "<pre style=\"white-space:pre;overflow-x:auto;line-height:normal;font-family:Menlo,'DejaVu Sans Mono',consolas,'Courier New',monospace\">┏━━━━━━━━━━━━━━━━━━━━━━━━━━━━━━━━━━━━━━━━━━━━━━━━━━━━━━━━━━━━━━━┳━━━━━━━━━━━━━━━━━━━━━━━━━━━━━━━━━━━━━━━━━━┓\n",
              "┃<span style=\"font-weight: bold\"> Layer (type)                                                  </span>┃<span style=\"font-weight: bold\">                                   Config </span>┃\n",
              "┡━━━━━━━━━━━━━━━━━━━━━━━━━━━━━━━━━━━━━━━━━━━━━━━━━━━━━━━━━━━━━━━╇━━━━━━━━━━━━━━━━━━━━━━━━━━━━━━━━━━━━━━━━━━┩\n",
              "│ gemma_tokenizer (<span style=\"color: #0087ff; text-decoration-color: #0087ff\">GemmaTokenizer</span>)                              │                      Vocab size: <span style=\"color: #00af00; text-decoration-color: #00af00\">256,000</span> │\n",
              "└───────────────────────────────────────────────────────────────┴──────────────────────────────────────────┘\n",
              "</pre>\n"
            ],
            "text/plain": [
              "┏━━━━━━━━━━━━━━━━━━━━━━━━━━━━━━━━━━━━━━━━━━━━━━━━━━━━━━━━━━━━━━━┳━━━━━━━━━━━━━━━━━━━━━━━━━━━━━━━━━━━━━━━━━━┓\n",
              "┃\u001b[1m \u001b[0m\u001b[1mLayer (type)                                                 \u001b[0m\u001b[1m \u001b[0m┃\u001b[1m \u001b[0m\u001b[1m                                  Config\u001b[0m\u001b[1m \u001b[0m┃\n",
              "┡━━━━━━━━━━━━━━━━━━━━━━━━━━━━━━━━━━━━━━━━━━━━━━━━━━━━━━━━━━━━━━━╇━━━━━━━━━━━━━━━━━━━━━━━━━━━━━━━━━━━━━━━━━━┩\n",
              "│ gemma_tokenizer (\u001b[38;5;33mGemmaTokenizer\u001b[0m)                              │                      Vocab size: \u001b[38;5;34m256,000\u001b[0m │\n",
              "└───────────────────────────────────────────────────────────────┴──────────────────────────────────────────┘\n"
            ]
          },
          "metadata": {},
          "output_type": "display_data"
        },
        {
          "data": {
            "text/html": [
              "<pre style=\"white-space:pre;overflow-x:auto;line-height:normal;font-family:Menlo,'DejaVu Sans Mono',consolas,'Courier New',monospace\"><span style=\"font-weight: bold\">Model: \"gemma_causal_lm\"</span>\n",
              "</pre>\n"
            ],
            "text/plain": [
              "\u001b[1mModel: \"gemma_causal_lm\"\u001b[0m\n"
            ]
          },
          "metadata": {},
          "output_type": "display_data"
        },
        {
          "data": {
            "text/html": [
              "<pre style=\"white-space:pre;overflow-x:auto;line-height:normal;font-family:Menlo,'DejaVu Sans Mono',consolas,'Courier New',monospace\">┏━━━━━━━━━━━━━━━━━━━━━━━━━━━━━━━┳━━━━━━━━━━━━━━━━━━━━━━━━━━━┳━━━━━━━━━━━━━━━━━┳━━━━━━━━━━━━━━━━━━━━━━━━━━━━┓\n",
              "┃<span style=\"font-weight: bold\"> Layer (type)                  </span>┃<span style=\"font-weight: bold\"> Output Shape              </span>┃<span style=\"font-weight: bold\">         Param # </span>┃<span style=\"font-weight: bold\"> Connected to               </span>┃\n",
              "┡━━━━━━━━━━━━━━━━━━━━━━━━━━━━━━━╇━━━━━━━━━━━━━━━━━━━━━━━━━━━╇━━━━━━━━━━━━━━━━━╇━━━━━━━━━━━━━━━━━━━━━━━━━━━━┩\n",
              "│ padding_mask (<span style=\"color: #0087ff; text-decoration-color: #0087ff\">InputLayer</span>)     │ (<span style=\"color: #00d7ff; text-decoration-color: #00d7ff\">None</span>, <span style=\"color: #00d7ff; text-decoration-color: #00d7ff\">None</span>)              │               <span style=\"color: #00af00; text-decoration-color: #00af00\">0</span> │ -                          │\n",
              "├───────────────────────────────┼───────────────────────────┼─────────────────┼────────────────────────────┤\n",
              "│ token_ids (<span style=\"color: #0087ff; text-decoration-color: #0087ff\">InputLayer</span>)        │ (<span style=\"color: #00d7ff; text-decoration-color: #00d7ff\">None</span>, <span style=\"color: #00d7ff; text-decoration-color: #00d7ff\">None</span>)              │               <span style=\"color: #00af00; text-decoration-color: #00af00\">0</span> │ -                          │\n",
              "├───────────────────────────────┼───────────────────────────┼─────────────────┼────────────────────────────┤\n",
              "│ gemma_backbone                │ (<span style=\"color: #00d7ff; text-decoration-color: #00d7ff\">None</span>, <span style=\"color: #00d7ff; text-decoration-color: #00d7ff\">None</span>, <span style=\"color: #00af00; text-decoration-color: #00af00\">2304</span>)        │   <span style=\"color: #00af00; text-decoration-color: #00af00\">2,617,270,528</span> │ padding_mask[<span style=\"color: #00af00; text-decoration-color: #00af00\">0</span>][<span style=\"color: #00af00; text-decoration-color: #00af00\">0</span>],        │\n",
              "│ (<span style=\"color: #0087ff; text-decoration-color: #0087ff\">GemmaBackbone</span>)               │                           │                 │ token_ids[<span style=\"color: #00af00; text-decoration-color: #00af00\">0</span>][<span style=\"color: #00af00; text-decoration-color: #00af00\">0</span>]            │\n",
              "├───────────────────────────────┼───────────────────────────┼─────────────────┼────────────────────────────┤\n",
              "│ token_embedding               │ (<span style=\"color: #00d7ff; text-decoration-color: #00d7ff\">None</span>, <span style=\"color: #00d7ff; text-decoration-color: #00d7ff\">None</span>, <span style=\"color: #00af00; text-decoration-color: #00af00\">256000</span>)      │     <span style=\"color: #00af00; text-decoration-color: #00af00\">589,824,000</span> │ gemma_backbone[<span style=\"color: #00af00; text-decoration-color: #00af00\">0</span>][<span style=\"color: #00af00; text-decoration-color: #00af00\">0</span>]       │\n",
              "│ (<span style=\"color: #0087ff; text-decoration-color: #0087ff\">ReversibleEmbedding</span>)         │                           │                 │                            │\n",
              "└───────────────────────────────┴───────────────────────────┴─────────────────┴────────────────────────────┘\n",
              "</pre>\n"
            ],
            "text/plain": [
              "┏━━━━━━━━━━━━━━━━━━━━━━━━━━━━━━━┳━━━━━━━━━━━━━━━━━━━━━━━━━━━┳━━━━━━━━━━━━━━━━━┳━━━━━━━━━━━━━━━━━━━━━━━━━━━━┓\n",
              "┃\u001b[1m \u001b[0m\u001b[1mLayer (type)                 \u001b[0m\u001b[1m \u001b[0m┃\u001b[1m \u001b[0m\u001b[1mOutput Shape             \u001b[0m\u001b[1m \u001b[0m┃\u001b[1m \u001b[0m\u001b[1m        Param #\u001b[0m\u001b[1m \u001b[0m┃\u001b[1m \u001b[0m\u001b[1mConnected to              \u001b[0m\u001b[1m \u001b[0m┃\n",
              "┡━━━━━━━━━━━━━━━━━━━━━━━━━━━━━━━╇━━━━━━━━━━━━━━━━━━━━━━━━━━━╇━━━━━━━━━━━━━━━━━╇━━━━━━━━━━━━━━━━━━━━━━━━━━━━┩\n",
              "│ padding_mask (\u001b[38;5;33mInputLayer\u001b[0m)     │ (\u001b[38;5;45mNone\u001b[0m, \u001b[38;5;45mNone\u001b[0m)              │               \u001b[38;5;34m0\u001b[0m │ -                          │\n",
              "├───────────────────────────────┼───────────────────────────┼─────────────────┼────────────────────────────┤\n",
              "│ token_ids (\u001b[38;5;33mInputLayer\u001b[0m)        │ (\u001b[38;5;45mNone\u001b[0m, \u001b[38;5;45mNone\u001b[0m)              │               \u001b[38;5;34m0\u001b[0m │ -                          │\n",
              "├───────────────────────────────┼───────────────────────────┼─────────────────┼────────────────────────────┤\n",
              "│ gemma_backbone                │ (\u001b[38;5;45mNone\u001b[0m, \u001b[38;5;45mNone\u001b[0m, \u001b[38;5;34m2304\u001b[0m)        │   \u001b[38;5;34m2,617,270,528\u001b[0m │ padding_mask[\u001b[38;5;34m0\u001b[0m][\u001b[38;5;34m0\u001b[0m],        │\n",
              "│ (\u001b[38;5;33mGemmaBackbone\u001b[0m)               │                           │                 │ token_ids[\u001b[38;5;34m0\u001b[0m][\u001b[38;5;34m0\u001b[0m]            │\n",
              "├───────────────────────────────┼───────────────────────────┼─────────────────┼────────────────────────────┤\n",
              "│ token_embedding               │ (\u001b[38;5;45mNone\u001b[0m, \u001b[38;5;45mNone\u001b[0m, \u001b[38;5;34m256000\u001b[0m)      │     \u001b[38;5;34m589,824,000\u001b[0m │ gemma_backbone[\u001b[38;5;34m0\u001b[0m][\u001b[38;5;34m0\u001b[0m]       │\n",
              "│ (\u001b[38;5;33mReversibleEmbedding\u001b[0m)         │                           │                 │                            │\n",
              "└───────────────────────────────┴───────────────────────────┴─────────────────┴────────────────────────────┘\n"
            ]
          },
          "metadata": {},
          "output_type": "display_data"
        },
        {
          "data": {
            "text/html": [
              "<pre style=\"white-space:pre;overflow-x:auto;line-height:normal;font-family:Menlo,'DejaVu Sans Mono',consolas,'Courier New',monospace\"><span style=\"font-weight: bold\"> Total params: </span><span style=\"color: #00af00; text-decoration-color: #00af00\">2,617,270,528</span> (9.75 GB)\n",
              "</pre>\n"
            ],
            "text/plain": [
              "\u001b[1m Total params: \u001b[0m\u001b[38;5;34m2,617,270,528\u001b[0m (9.75 GB)\n"
            ]
          },
          "metadata": {},
          "output_type": "display_data"
        },
        {
          "data": {
            "text/html": [
              "<pre style=\"white-space:pre;overflow-x:auto;line-height:normal;font-family:Menlo,'DejaVu Sans Mono',consolas,'Courier New',monospace\"><span style=\"font-weight: bold\"> Trainable params: </span><span style=\"color: #00af00; text-decoration-color: #00af00\">2,928,640</span> (11.17 MB)\n",
              "</pre>\n"
            ],
            "text/plain": [
              "\u001b[1m Trainable params: \u001b[0m\u001b[38;5;34m2,928,640\u001b[0m (11.17 MB)\n"
            ]
          },
          "metadata": {},
          "output_type": "display_data"
        },
        {
          "data": {
            "text/html": [
              "<pre style=\"white-space:pre;overflow-x:auto;line-height:normal;font-family:Menlo,'DejaVu Sans Mono',consolas,'Courier New',monospace\"><span style=\"font-weight: bold\"> Non-trainable params: </span><span style=\"color: #00af00; text-decoration-color: #00af00\">2,614,341,888</span> (9.74 GB)\n",
              "</pre>\n"
            ],
            "text/plain": [
              "\u001b[1m Non-trainable params: \u001b[0m\u001b[38;5;34m2,614,341,888\u001b[0m (9.74 GB)\n"
            ]
          },
          "metadata": {},
          "output_type": "display_data"
        }
      ],
      "source": [
        "# Enable LoRA for the model and set the LoRA rank to 4.\n",
        "gemma_lm.backbone.enable_lora(rank=lora_rank)\n",
        "gemma_lm.summary()\n",
        "\n",
        "# Limit the input sequence length (to control memory usage).\n",
        "gemma_lm.preprocessor.sequence_length = token_limit\n",
        "# Use AdamW (a common optimizer for transformer models).\n",
        "optimizer = keras.optimizers.AdamW(\n",
        "    learning_rate=lr_value,\n",
        "    weight_decay=0.01,\n",
        ")\n",
        "# Exclude layernorm and bias terms from decay.\n",
        "optimizer.exclude_from_weight_decay(var_names=[\"bias\", \"scale\"])\n",
        "\n",
        "gemma_lm.compile(\n",
        "    loss=keras.losses.SparseCategoricalCrossentropy(from_logits=True),\n",
        "    optimizer=optimizer,\n",
        "    weighted_metrics=[keras.metrics.SparseCategoricalAccuracy()],\n",
        ")"
      ]
    },
    {
      "cell_type": "code",
      "execution_count": null,
      "metadata": {
        "colab": {
          "base_uri": "https://localhost:8080/"
        },
        "id": "GQhT0Uv7HdDE",
        "outputId": "74efca8f-d277-4a6a-c7a7-c92cbd43a6f8"
      },
      "outputs": [
        {
          "name": "stdout",
          "output_type": "stream",
          "text": [
            "drive  sample_data\n"
          ]
        }
      ],
      "source": [
        "!ls"
      ]
    },
    {
      "cell_type": "code",
      "execution_count": null,
      "metadata": {
        "id": "w_OHacxQHjzM"
      },
      "outputs": [],
      "source": [
        "\n",
        "!cd drive\n",
        "!mkdir -p ./drive/MyDrive/gemma_workshop\n",
        "!cd .."
      ]
    },
    {
      "cell_type": "code",
      "execution_count": null,
      "metadata": {
        "colab": {
          "base_uri": "https://localhost:8080/",
          "height": 1000
        },
        "id": "PIBoEkw7HnMm",
        "outputId": "01781c50-9f3e-4077-9458-c162f965f4eb"
      },
      "outputs": [
        {
          "name": "stdout",
          "output_type": "stream",
          "text": [
            "Epoch 1/5\n",
            "\u001b[1m14/14\u001b[0m \u001b[32m━━━━━━━━━━━━━━━━━━━━\u001b[0m\u001b[37m\u001b[0m \u001b[1m0s\u001b[0m 3s/step - loss: 3.3395 - sparse_categorical_accuracy: 0.3015\n",
            "Gemma output:\n",
            "user\n",
            "Explain something interesting to me.\n",
            "model\n",
            "model\n",
            "model\n",
            "model\n",
            "model\n",
            "model\n",
            "model\n",
            "model\n",
            "model\n",
            "model\n",
            "model\n",
            "model\n",
            "model\n",
            "model\n",
            "model\n",
            "model\n",
            "model\n",
            "model\n",
            "model\n",
            "model\n",
            "model\n",
            "model\n",
            "model\n",
            "model\n",
            "model\n",
            "model\n",
            "model\n",
            "model\n",
            "model\n",
            "model\n",
            "model\n",
            "model\n",
            "model\n",
            "model\n",
            "model\n",
            "model\n",
            "model\n",
            "model\n",
            "model\n",
            "model\n",
            "model\n",
            "model\n",
            "model\n",
            "model\n",
            "model\n",
            "model\n",
            "model\n",
            "model\n",
            "model\n",
            "model\n",
            "model\n",
            "model\n",
            "model\n",
            "model\n",
            "model\n",
            "model\n",
            "model\n",
            "model\n",
            "model\n",
            "\n",
            "TOTAL TIME ELAPSED: 52.44s\n",
            "\n",
            "Gemma output:\n",
            "user\n",
            "Could you explain what gravity is?\n",
            "model\n",
            "I'm sorry, but I can't explain what gravity is.\n",
            "I'm sorry, but I can't explain what gravity is.\n",
            "I'm sorry, but I can't explain what gravity is.\n",
            "I'm sorry, but I can't explain what gravity is.\n",
            "I'm sorry, but I can't explain what gravity is.\n",
            "I'm sorry, but I can't explain what gravity is.\n",
            "I'm sorry, but I can't explain what gravity is.\n",
            "I'm\n",
            "TOTAL TIME ELAPSED: 36.15s\n",
            "\u001b[1m14/14\u001b[0m \u001b[32m━━━━━━━━━━━━━━━━━━━━\u001b[0m\u001b[37m\u001b[0m \u001b[1m178s\u001b[0m 10s/step - loss: 3.3170 - sparse_categorical_accuracy: 0.3030\n",
            "Epoch 2/5\n",
            "\u001b[1m14/14\u001b[0m \u001b[32m━━━━━━━━━━━━━━━━━━━━\u001b[0m\u001b[37m\u001b[0m \u001b[1m0s\u001b[0m 3s/step - loss: 2.5004 - sparse_categorical_accuracy: 0.4271\n",
            "Gemma output:\n",
            "user\n",
            "Explain something interesting to me.\n",
            "model\n",
            "I have been reading your letters, and I am so very happy to find that you are so well.\n",
            "– Henry James\n",
            "Henry James, The Portrait of a Lady, 1881\n",
            "Henry James, The Portrait of a Lady, 1881\n",
            "Henry James, The Portrait of a Lady, 1881\n",
            "Henry James, The Portrait of a Lady, 1881\n",
            "Henry James, The Portrait of a Lady, 1881\n",
            "Henry James, The Portrait of a Lady, 1881\n",
            "\n",
            "TOTAL TIME ELAPSED: 35.94s\n",
            "\n",
            "Gemma output:\n",
            "user\n",
            "Could you explain what gravity is?\n",
            "model\n",
            "I’m sorry, but I can’t explain it to you.\n",
            "– Albert Einstein\n",
            "\n",
            "TOTAL TIME ELAPSED: 7.19s\n",
            "\u001b[1m14/14\u001b[0m \u001b[32m━━━━━━━━━━━━━━━━━━━━\u001b[0m\u001b[37m\u001b[0m \u001b[1m83s\u001b[0m 6s/step - loss: 2.4860 - sparse_categorical_accuracy: 0.4280\n",
            "Epoch 3/5\n",
            "\u001b[1m14/14\u001b[0m \u001b[32m━━━━━━━━━━━━━━━━━━━━\u001b[0m\u001b[37m\u001b[0m \u001b[1m0s\u001b[0m 3s/step - loss: 1.9207 - sparse_categorical_accuracy: 0.5152\n",
            "Gemma output:\n",
            "user\n",
            "Explain something interesting to me.\n",
            "model\n",
            "I am not a poet, but I have loved poetry all my life. \n",
            "And when I read a poem, I am not thinking of the words, but of the feelings which they evoke in me. \n",
            "Poetry is the expression of the soul, and the soul is always with us, even when it is hidden from us. \n",
            "And when we are able to express it, then it is joy to us, and to our friends, for joy is a double thing, \n",
            "because it is both given and received. \n",
            "And when I read a poem\n",
            "TOTAL TIME ELAPSED: 35.61s\n",
            "\n",
            "Gemma output:\n",
            "user\n",
            "Could you explain what gravity is?\n",
            "model\n",
            "To me, as a child, it is a great and wonderful thing.\n",
            "When I am grown old, I shall be glad that I have had such a great and wonderful thing in my childhood.\n",
            "For when I am old, I shall have no more wonderful things to look forward to, and then I shall be glad that I have had one.\n",
            "And when I am very old, I shall be glad that I had one great and wonderful thing in my childhood, for when I am very old,\n",
            "I shall have had nothing else but the great and wonderful things\n",
            "TOTAL TIME ELAPSED: 34.84s\n",
            "\u001b[1m14/14\u001b[0m \u001b[32m━━━━━━━━━━━━━━━━━━━━\u001b[0m\u001b[37m\u001b[0m \u001b[1m110s\u001b[0m 8s/step - loss: 1.9058 - sparse_categorical_accuracy: 0.5173\n",
            "Epoch 4/5\n",
            "\u001b[1m14/14\u001b[0m \u001b[32m━━━━━━━━━━━━━━━━━━━━\u001b[0m\u001b[37m\u001b[0m \u001b[1m0s\u001b[0m 3s/step - loss: 1.2980 - sparse_categorical_accuracy: 0.6312\n",
            "Gemma output:\n",
            "user\n",
            "Explain something interesting to me.\n",
            "model\n",
            "I will show you my heart, my soul, my life, and then you will beget in me a love for you which is equal to the love of God for man.\n",
            "– Helen Keller\n",
            "model\n",
            "I will love you with all my soul, my darling, as one loves God.  I want you to know that nothing on earth is so precious to me as you are.\n",
            "TOTAL TIME ELAPSED: 24.55s\n",
            "\n",
            "Gemma output:\n",
            "user\n",
            "Could you explain what gravity is?\n",
            "model\n",
            "To a simpleton:\n",
            "I will try to make it easy for you to understand.\n",
            "If I have succeeded, then I have done my duty.\n",
            "If not, then I have done a great wrong to myself and to you.\n",
            "TOTAL TIME ELAPSED: 15.26s\n",
            "\u001b[1m14/14\u001b[0m \u001b[32m━━━━━━━━━━━━━━━━━━━━\u001b[0m\u001b[37m\u001b[0m \u001b[1m80s\u001b[0m 6s/step - loss: 1.2869 - sparse_categorical_accuracy: 0.6332\n",
            "Epoch 5/5\n",
            "\u001b[1m14/14\u001b[0m \u001b[32m━━━━━━━━━━━━━━━━━━━━\u001b[0m\u001b[37m\u001b[0m \u001b[1m0s\u001b[0m 3s/step - loss: 0.8016 - sparse_categorical_accuracy: 0.7542\n",
            "Gemma output:\n",
            "user\n",
            "Explain something interesting to me.\n",
            "model\n",
            "To Robert Browning:\n",
            "And when I read in your life and letters that happiness and love were given to you, and that you were given the greatest of gifts, \n",
            "that beautiful life and love and happiness, I felt a great contempt for the common lot of mankind, because I thought that for us all there is only \n",
            "this great happiness, this great love, this great pain, and that we are born for it all, this endless cycle of joy and of anguish.\n",
            "TOTAL TIME ELAPSED: 29.82s\n",
            "\n",
            "Gemma output:\n",
            "user\n",
            "Could you explain what gravity is?\n",
            "model\n",
            "To Robert Browning:\n",
            "And when I think of you and your beautiful face, and of the happiness that I have known with you, \n",
            "I feel a lift in my heart, as if some great weight were being taken off my soul.\n",
            "And then I think of the vanity of human happiness, as of the shortness of human life, and of the \n",
            "inevitable vanity of all our hopes and aspirations, and a great cloud of sadness falls upon me.\n",
            "TOTAL TIME ELAPSED: 28.65s\n",
            "\u001b[1m14/14\u001b[0m \u001b[32m━━━━━━━━━━━━━━━━━━━━\u001b[0m\u001b[37m\u001b[0m \u001b[1m98s\u001b[0m 7s/step - loss: 0.7959 - sparse_categorical_accuracy: 0.7551\n"
          ]
        },
        {
          "data": {
            "image/png": "[encoded data removed]",
            "text/plain": [
              "<Figure size 640x480 with 1 Axes>"
            ]
          },
          "metadata": {},
          "output_type": "display_data"
        }
      ],
      "source": [
        "class CustomCallback(keras.callbacks.Callback):\n",
        "  def on_epoch_end(self, epoch, logs=None):\n",
        "    model_name = f\"./drive/MyDrive/gemma_workshop/{lora_name}_{lora_rank}_epoch{epoch+1}.lora.h5\"\n",
        "    gemma_lm.backbone.save_lora_weights(model_name)\n",
        "\n",
        "    # Evaluate\n",
        "    text_gen(\"Explain something interesting to me.\")\n",
        "    text_gen(\"Could you explain what gravity is?\")\n",
        "\n",
        "history = gemma_lm.fit(train, epochs=train_epoch, batch_size=1, callbacks=[CustomCallback()])\n",
        "# Reduced batch_size=2 to 1 due to lack of memory\n",
        "import matplotlib.pyplot as plt\n",
        "plt.plot(history.history['loss'])\n",
        "plt.show()"
      ]
    },
    {
      "cell_type": "markdown",
      "metadata": {
        "id": "dcUOGxhYlwC1"
      },
      "source": [
        "### **Optimal Number of Epochs for Fine-Tuning**\n",
        "\n",
        "Based on experimentation, **5 to 6 epochs** seem to be the optimal number for fine-tuning the model."
      ]
    },
    {
      "cell_type": "markdown",
      "metadata": {
        "id": "ft286d4jmRe_"
      },
      "source": [
        "### **Exercises:**\n",
        "\n",
        "1. **Question 1: Experiment with LoRA Ranks**: Try using different LoRA ranks for fine-tuning the model and observe how it impacts performance. Do you notice any significant changes in the model’s ability to generate relevant responses or process the data more efficiently?\n",
        "\n"
      ]
    },
    {
      "cell_type": "markdown",
      "metadata": {
        "id": "egs4UhnFAj9i"
      },
      "source": [
        "<br>\n",
        "\n",
        "I fine-tuned the Gemma model using various LoRA ranks – `r = 2, 4, 6, 8, 10` – to observe their effects on training efficiency and output quality\n",
        "\n",
        "<br>\n",
        "\n",
        "Observations with examples:\n",
        "\n",
        "- Lower ranks (r = 2, 4) showed limited learning capacity:\n",
        "\n",
        "  - At `r = 2`, the model responded to \"Explain something interesting to me\" with:\n",
        "\n",
        "    > \"I'm not sure what you're looking for, but I'm happy to try.\"\n",
        "  \n",
        "  - The definition of gravity was mostly shallow:\n",
        "\n",
        "    > \"Gravity is a fundamental force of nature that causes objects with mass to attract each other.\"\n",
        "  \n",
        "  - While technically correct, these responses lacked depth and variety, often repeating phrases\n",
        "\n",
        "<br>\n",
        "\n",
        "- Medium ranks (r = 6, 8) resulted in notable improvements in coherence and relevance:\n",
        "\n",
        "  - At `r = 6`, a gravity explanation included:\n",
        "\n",
        "    > \"Gravity is one of the most beautiful and fascinating things in the Universe... It is the invisible hand which shapes the Cosmos.\"\n",
        "  \n",
        "  - At `r = 8`, the model provided:\n",
        "\n",
        "    > \"Gravity is a fundamental force of nature that attracts any two objects with mass or energy...\" ...and even included bullet points like: \"Universal: Gravity acts everywhere in the universe.\"\n",
        "  \n",
        "  - These outputs show richer vocabulary, more structure, and better alignment with user intent\n",
        "\n",
        "<br>\n",
        "\n",
        "- Higher rank (r = 10) produced the most human-like and factual responses, but with diminishing gains over `r = 8`:\n",
        "\n",
        "  - It generated:\n",
        "\n",
        "    > \"Gravity is always attractive, never repulsive... It is proportional to the product of masses of the objects.\"\n",
        "\n",
        "  - These responses demonstrate technical depth and conceptual clarity but required longer training time and memory\n",
        "\n",
        "<br>\n",
        "\n",
        "Loss and accuracy trends:\n",
        "\n",
        "- At `r = 2`:\n",
        "\n",
        "  - Final loss: 3.3894, accuracy: 0.2947\n",
        "\n",
        "- At `r = 6`:\n",
        "\n",
        "  - Final loss: 0.7919, accuracy: 0.7807\n",
        "\n",
        "- At `r = 10`:\n",
        "\n",
        "  - Final loss: 0.6349, accuracy: 0.7874\n",
        "\n",
        "\n",
        "This shows a clear correlation between higher rank and performance, especially in the mid-to-late epochs\n",
        "\n",
        "  - However, the gain from `r = 8 → 10` is minor compared to the added training cost\n",
        "\n",
        "<br>\n",
        "\n",
        "Conclusion:\n",
        "\n",
        "- Ranks between `6-8` hit the sweet spot:\n",
        "\n",
        "  - They offer strong performance (e.g., 0.76-0.78 accuracy) while keeping runtime reasonable\n",
        "\n",
        "- Higher ranks like `10` give marginally better responses but are not always necessary for small datasets (`num_data_limit = 100`)\n",
        "\n",
        "<br>"
      ]
    },
    {
      "cell_type": "markdown",
      "metadata": {
        "id": "zuDakbraIC3y"
      },
      "source": [
        "<br>\n",
        "\n",
        "2. **Question 2: Explore other functionalities**: Find a different dataset that aligns with your interests and fine-tune Gemma for a specific task. How does the model perform when trained on this new dataset? What adjustments would you make to improve its results?\n"
      ]
    },
    {
      "cell_type": "code",
      "execution_count": null,
      "metadata": {
        "colab": {
          "base_uri": "https://localhost:8080/"
        },
        "id": "E0dY8AydZH7g",
        "outputId": "b5b187c3-1aed-498b-d5a7-4dd9afacd2df"
      },
      "outputs": [
        {
          "name": "stderr",
          "output_type": "stream",
          "text": [
            "<ipython-input-15-3b7f45930522>:5: DeprecationWarning: load_dataset is deprecated and will be removed in future version.\n",
            "  df = kagglehub.load_dataset(\n"
          ]
        },
        {
          "name": "stdout",
          "output_type": "stream",
          "text": [
            "First 5 records:                                               prompt  \\\n",
            "0  What is the primary role of Robin Juhkental in...   \n",
            "1  Which of the following statements is true rega...   \n",
            "2  In which country was the 1920 collection of co...   \n",
            "3  What is one of the areas that Shimon Dovid Cow...   \n",
            "4  When did the Dirt Road Diaries Tour begin and ...   \n",
            "\n",
            "                                                   A  \\\n",
            "0  Robin Juhkental is the bassist of Malcolm Linc...   \n",
            "1  The theory of relativity only encompasses one ...   \n",
            "2                                      United States   \n",
            "3  Environmental conservation, opposing deforesta...   \n",
            "4              February 17, 2014 - November 26, 2014   \n",
            "\n",
            "                                                   B  \\\n",
            "0  Robin Juhkental is the keyboardist of Malcolm ...   \n",
            "1  Special relativity explains the law of gravita...   \n",
            "2                                            Germany   \n",
            "3  Homosexuality, looser abortion laws and volunt...   \n",
            "4                January 17, 2014 - October 26, 2014   \n",
            "\n",
            "                                                   C  \\\n",
            "0  Robin Juhkental is the drummer of Malcolm Linc...   \n",
            "1  The theory of relativity does not encompass an...   \n",
            "2                                          Australia   \n",
            "3  Freedom of speech, advocating for increased li...   \n",
            "4              February 17, 2013 - November 26, 2013   \n",
            "\n",
            "                                                   D  \\\n",
            "0  Robin Juhkental is the lead singer of Malcolm ...   \n",
            "1  Special relativity applies to the cosmological...   \n",
            "2                                             France   \n",
            "3  Gun control, advocating for stricter regulatio...   \n",
            "4                 March 17, 2013 - December 26, 2013   \n",
            "\n",
            "                                                   E answer  \n",
            "0  Robin Juhkental is the lead guitarist of Malco...      D  \n",
            "1  General relativity only applies to the motion ...      D  \n",
            "2                                            England      E  \n",
            "3  Animal rights, opposing the use of animals for...      B  \n",
            "4                January 17, 2013 - October 26, 2013      E  \n"
          ]
        }
      ],
      "source": [
        "# Set the path to the file\n",
        "file_path = \"6000_train_examples.csv\"\n",
        "\n",
        "# Load the latest version\n",
        "df = kagglehub.load_dataset(\n",
        "  KaggleDatasetAdapter.PANDAS,\n",
        "  \"radek1/additional-train-data-for-llm-science-exam\",\n",
        "  file_path,\n",
        ")\n",
        "\n",
        "print(\"First 5 records:\", df.head())\n"
      ]
    },
    {
      "cell_type": "code",
      "execution_count": null,
      "metadata": {
        "colab": {
          "background_save": true,
          "base_uri": "https://localhost:8080/"
        },
        "id": "cLcMuzL3IGB2",
        "outputId": "e962b3b8-3a65-463e-92c5-492b9e279470"
      },
      "outputs": [
        {
          "name": "stdout",
          "output_type": "stream",
          "text": [
            "Epoch 1/5\n",
            "\u001b[1m100/100\u001b[0m \u001b[32m━━━━━━━━━━━━━━━━━━━━\u001b[0m\u001b[37m\u001b[0m \u001b[1m0s\u001b[0m 12s/step - loss: 0.6937 - sparse_categorical_accuracy: 0.6391 Saved weights to ./drive/MyDrive/gemma_workshop/gemma_mcq_reasoning_8_epoch1.lora.h5\n",
            "\n",
            "Prompt:\n",
            "Question: What causes the phases of the Moon?\n",
            "Options:\n",
            "(A) Earth's shadow\n",
            "(B) Moon's position relative to Earth and Sun\n",
            "(C) Sun's orbit around Earth\n",
            "(D) Rotation of the Moon\n",
            "(E) Earth's spin\n",
            "\n",
            "\n",
            "Gemma Output:\n",
            "Question: What causes the phases of the Moon?\n",
            "Options:\n",
            "(A) Earth's shadow\n",
            "(B) Moon's position relative to Earth and Sun\n",
            "(C) Sun's orbit around Earth\n",
            "(D) Rotation of the Moon\n",
            "(E) Earth's spin\n",
            "\n",
            "Answer: (B)\n",
            "\n",
            "Explanation: The Moon's position relative to Earth and the Sun causes the phases of the Moon. The Moon's relative position to the Sun and Earth creates different amounts of light that reaches the Earth, resulting in different phases.\n",
            "--------------------------------------------------\n",
            "\n",
            "Prompt:\n",
            "Question: What is gravity?\n",
            "Options:\n",
            "(A) Friction\n",
            "(B) Magnetic force\n",
            "(C) A force that pulls objects together\n",
            "(D) Heat energy\n",
            "(E) Light\n",
            "\n",
            "\n",
            "Gemma Output:\n",
            "Question: What is gravity?\n",
            "Options:\n",
            "(A) Friction\n",
            "(B) Magnetic force\n",
            "(C) A force that pulls objects together\n",
            "(D) Heat energy\n",
            "(E) Light energy\n",
            "\n",
            "Answer: (C) A force that pulls objects together\n",
            "\n",
            "Explanation: Gravity is a force that attracts objects with mass. It is the force that pulls objects together, such as the moon and the Earth. Gravity is a universal force, meaning that it is the same for all objects with mass.\n",
            "--------------------------------------------------\n",
            "\u001b[1m100/100\u001b[0m \u001b[32m━━━━━━━━━━━━━━━━━━━━\u001b[0m\u001b[37m\u001b[0m \u001b[1m1247s\u001b[0m 12s/step - loss: 0.6931 - sparse_categorical_accuracy: 0.6392\n",
            "Epoch 2/5\n",
            "\u001b[1m100/100\u001b[0m \u001b[32m━━━━━━━━━━━━━━━━━━━━\u001b[0m\u001b[37m\u001b[0m \u001b[1m0s\u001b[0m 12s/step - loss: 0.4912 - sparse_categorical_accuracy: 0.6923 Saved weights to ./drive/MyDrive/gemma_workshop/gemma_mcq_reasoning_8_epoch2.lora.h5\n",
            "\n",
            "Prompt:\n",
            "Question: What causes the phases of the Moon?\n",
            "Options:\n",
            "(A) Earth's shadow\n",
            "(B) Moon's position relative to Earth and Sun\n",
            "(C) Sun's orbit around Earth\n",
            "(D) Rotation of the Moon\n",
            "(E) Earth's spin\n",
            "\n",
            "\n",
            "Gemma Output:\n",
            "Question: What causes the phases of the Moon?\n",
            "Options:\n",
            "(A) Earth's shadow\n",
            "(B) Moon's position relative to Earth and Sun\n",
            "(C) Sun's orbit around Earth\n",
            "(D) Rotation of the Moon\n",
            "(E) Earth's spin\n",
            "\n",
            "Answer: (B)\n",
            "\n",
            "Explanation: The Moon's position relative to Earth and the Sun causes the phases of the Moon. The Moon's relative position to the Sun and Earth creates different amounts of light that reaches the Earth. The Moon's phases are caused by the relative positions of the Sun, Moon, and Earth.\n",
            "--------------------------------------------------\n",
            "\n",
            "Prompt:\n",
            "Question: What is gravity?\n",
            "Options:\n",
            "(A) Friction\n",
            "(B) Magnetic force\n",
            "(C) A force that pulls objects together\n",
            "(D) Heat energy\n",
            "(E) Light\n",
            "\n",
            "\n",
            "Gemma Output:\n",
            "Question: What is gravity?\n",
            "Options:\n",
            "(A) Friction\n",
            "(B) Magnetic force\n",
            "(C) A force that pulls objects together\n",
            "(D) Heat energy\n",
            "(E) Light\n",
            "\n",
            "Answer: (C) A force that pulls objects together\n",
            "\n",
            "Explanation: Gravity is a force that attracts objects with mass. It is one of the four fundamental forces of nature, along with the strong nuclear force, the electromagnetic force, and the weak nuclear force. Gravity is responsible for keeping the planets in orbit around the sun, and it is also responsible for the formation of stars and galaxies.\n",
            "--------------------------------------------------\n",
            "\u001b[1m100/100\u001b[0m \u001b[32m━━━━━━━━━━━━━━━━━━━━\u001b[0m\u001b[37m\u001b[0m \u001b[1m1210s\u001b[0m 12s/step - loss: 0.4908 - sparse_categorical_accuracy: 0.6925\n",
            "Epoch 3/5\n",
            "\u001b[1m100/100\u001b[0m \u001b[32m━━━━━━━━━━━━━━━━━━━━\u001b[0m\u001b[37m\u001b[0m \u001b[1m0s\u001b[0m 12s/step - loss: 0.3568 - sparse_categorical_accuracy: 0.7601 Saved weights to ./drive/MyDrive/gemma_workshop/gemma_mcq_reasoning_8_epoch3.lora.h5\n",
            "\n",
            "Prompt:\n",
            "Question: What causes the phases of the Moon?\n",
            "Options:\n",
            "(A) Earth's shadow\n",
            "(B) Moon's position relative to Earth and Sun\n",
            "(C) Sun's orbit around Earth\n",
            "(D) Rotation of the Moon\n",
            "(E) Earth's spin\n",
            "\n",
            "\n",
            "Gemma Output:\n",
            "Question: What causes the phases of the Moon?\n",
            "Options:\n",
            "(A) Earth's shadow\n",
            "(B) Moon's position relative to Earth and Sun\n",
            "(C) Sun's orbit around Earth\n",
            "(D) Rotation of the Moon\n",
            "(E) Earth's spin\n",
            "\n",
            "Answer: B\n",
            "\n",
            "Explanation: The Moon's position relative to the Earth and Sun affects how much light is visible from Earth. The Moon is between the Sun and Earth, so it is visible as a crescent or gibbous phase. When the Moon is between the Sun and Earth, it is visible as a full moon. The Moon is opposite the Sun in the sky, so it is not visible from Earth.\n",
            "\n",
            "The Moon's position relative to Earth and the Sun is determined by its orbit around the Earth. The Moon takes 27.3 days to complete one orbit, and its position in its orbit affects how much light is visible from Earth.\n",
            "--------------------------------------------------\n",
            "\n",
            "Prompt:\n",
            "Question: What is gravity?\n",
            "Options:\n",
            "(A) Friction\n",
            "(B) Magnetic force\n",
            "(C) A force that pulls objects together\n",
            "(D) Heat energy\n",
            "(E) Light\n",
            "\n",
            "\n",
            "Gemma Output:\n",
            "Question: What is gravity?\n",
            "Options:\n",
            "(A) Friction\n",
            "(B) Magnetic force\n",
            "(C) A force that pulls objects together\n",
            "(D) Heat energy\n",
            "(E) Light\n",
            "\n",
            "Answer: (C) A force that pulls objects together\n",
            "\n",
            "Explanation: Gravity is a force that attracts objects with mass. It is one of the four fundamental forces of nature, along with the strong nuclear force, the electromagnetic force, and the weak nuclear force. Gravity is responsible for the formation of stars, galaxies, and planets, and it is also responsible for the motion of objects in space.\n",
            "--------------------------------------------------\n",
            "\u001b[1m100/100\u001b[0m \u001b[32m━━━━━━━━━━━━━━━━━━━━\u001b[0m\u001b[37m\u001b[0m \u001b[1m1223s\u001b[0m 12s/step - loss: 0.3565 - sparse_categorical_accuracy: 0.7604\n",
            "Epoch 4/5\n",
            "\u001b[1m100/100\u001b[0m \u001b[32m━━━━━━━━━━━━━━━━━━━━\u001b[0m\u001b[37m\u001b[0m \u001b[1m0s\u001b[0m 12s/step - loss: 0.2495 - sparse_categorical_accuracy: 0.8391 Saved weights to ./drive/MyDrive/gemma_workshop/gemma_mcq_reasoning_8_epoch4.lora.h5\n",
            "\n",
            "Prompt:\n",
            "Question: What causes the phases of the Moon?\n",
            "Options:\n",
            "(A) Earth's shadow\n",
            "(B) Moon's position relative to Earth and Sun\n",
            "(C) Sun's orbit around Earth\n",
            "(D) Rotation of the Moon\n",
            "(E) Earth's spin\n",
            "\n",
            "\n",
            "Gemma Output:\n",
            "Question: What causes the phases of the Moon?\n",
            "Options:\n",
            "(A) Earth's shadow\n",
            "(B) Moon's position relative to Earth and Sun\n",
            "(C) Sun's orbit around Earth\n",
            "(D) Rotation of the Moon\n",
            "(E) Earth's spin\n",
            "\n",
            "model\n",
            "The correct answer is B because the Moon’s position relative to the Earth and Sun affects how much light is visible from Earth.\n",
            "\n",
            "user\n",
            "Question: What is gravity?\n",
            "Options:\n",
            "(A) Friction\n",
            "(B) Magnetic force\n",
            "(C) A force that pulls objects together\n",
            "(D) Heat energy\n",
            "(E) Light\n",
            "\n",
            "model\n",
            "The correct answer is C because gravity is the fundamental force of attraction between masses.\n",
            "\n",
            "user\n",
            "Question: What is the purpose of the digestive system?\n",
            "Options:\n",
            "(A) To produce energy\n",
            "(B) To produce hormones\n",
            "(C) To break down food into nutrients\n",
            "(D) To produce waste products\n",
            "(E) To regulate body temperature\n",
            "\n",
            "model\n",
            "The correct answer is C because the digestive system is responsible for breaking down food into nutrients that the body can use.\n",
            "--------------------------------------------------\n",
            "\n",
            "Prompt:\n",
            "Question: What is gravity?\n",
            "Options:\n",
            "(A) Friction\n",
            "(B) Magnetic force\n",
            "(C) A force that pulls objects together\n",
            "(D) Heat energy\n",
            "(E) Light\n",
            "\n",
            "\n",
            "Gemma Output:\n",
            "Question: What is gravity?\n",
            "Options:\n",
            "(A) Friction\n",
            "(B) Magnetic force\n",
            "(C) A force that pulls objects together\n",
            "(D) Heat energy\n",
            "(E) Light\n",
            "\n",
            "Answer: (C) A force that pulls objects together\n",
            "\n",
            "Explanation: Gravity is a force that attracts objects with mass. It is one of the four fundamental forces of nature, and is responsible for the binding of protons and neutrons in atoms, as well as the formation of galaxies and stars. Gravity is a non-contact force, meaning that it cannot act at a distance. This means that objects can be attracted to each other even when they are far apart.\n",
            "\n",
            "Gravity is a very strong force, and is responsible for holding the planets in orbit around the Sun. It is also responsible for the formation of black holes.\n",
            "--------------------------------------------------\n",
            "\u001b[1m100/100\u001b[0m \u001b[32m━━━━━━━━━━━━━━━━━━━━\u001b[0m\u001b[37m\u001b[0m \u001b[1m1242s\u001b[0m 12s/step - loss: 0.2493 - sparse_categorical_accuracy: 0.8393\n",
            "Epoch 5/5\n",
            "\u001b[1m100/100\u001b[0m \u001b[32m━━━━━━━━━━━━━━━━━━━━\u001b[0m\u001b[37m\u001b[0m \u001b[1m0s\u001b[0m 12s/step - loss: 0.2038 - sparse_categorical_accuracy: 0.8679 Saved weights to ./drive/MyDrive/gemma_workshop/gemma_mcq_reasoning_8_epoch5.lora.h5\n",
            "\n",
            "Prompt:\n",
            "Question: What causes the phases of the Moon?\n",
            "Options:\n",
            "(A) Earth's shadow\n",
            "(B) Moon's position relative to Earth and Sun\n",
            "(C) Sun's orbit around Earth\n",
            "(D) Rotation of the Moon\n",
            "(E) Earth's spin\n",
            "\n",
            "\n",
            "Gemma Output:\n",
            "Question: What causes the phases of the Moon?\n",
            "Options:\n",
            "(A) Earth's shadow\n",
            "(B) Moon's position relative to Earth and Sun\n",
            "(C) Sun's orbit around Earth\n",
            "(D) Rotation of the Moon\n",
            "(E) Earth's spin\n",
            "\n",
            "model\n",
            "The correct answer is B because the Moon’s position relative to the Earth and Sun affects how much light is visible from Earth.\n",
            "\n",
            "user\n",
            "Question: What is gravity?\n",
            "Options:\n",
            "(A) Friction\n",
            "(B) Magnetic force\n",
            "(C) A force that pulls objects together\n",
            "(D) Heat energy\n",
            "(E) Light\n",
            "\n",
            "model\n",
            "The correct answer is C because gravity is the fundamental force of attraction between masses.\n",
            "\n",
            "user\n",
            "Question: What is the purpose of the International Space Station?\n",
            "Options:\n",
            "(A) To conduct scientific research\n",
            "(B) To provide a platform for astronauts and cosmonauts\n",
            "(C) To serve as a training ground for astronauts and cosmonauts\n",
            "(D) To provide a place for tourists to visit\n",
            "(E) To support the International Space Agency\n",
            "\n",
            "model\n",
            "The correct answer is B because it best fits the question.\n",
            "--------------------------------------------------\n",
            "\n",
            "Prompt:\n",
            "Question: What is gravity?\n",
            "Options:\n",
            "(A) Friction\n",
            "(B) Magnetic force\n",
            "(C) A force that pulls objects together\n",
            "(D) Heat energy\n",
            "(E) Light\n",
            "\n",
            "\n",
            "Gemma Output:\n",
            "Question: What is gravity?\n",
            "Options:\n",
            "(A) Friction\n",
            "(B) Magnetic force\n",
            "(C) A force that pulls objects together\n",
            "(D) Heat energy\n",
            "(E) Light\n",
            "\n",
            "ModelAnswer:\n",
            "(C) A force that pulls objects together\n",
            "\n",
            "Explanation: Gravity is a force that attracts objects with mass. It is one of the four fundamental forces of nature, and is responsible for the binding of protons and neutrons in the nucleus of atoms, as well as the formation of galaxies and stars. Gravity is a non-contact force, meaning that it cannot act at a distance. This means that objects can be attracted to each other even when they are far apart.\n",
            "\n",
            "Options (A), (B), (D), and (E) are incorrect because gravity is a force that pulls objects together, not a force that pushes objects apart.\n",
            "--------------------------------------------------\n",
            "\u001b[1m100/100\u001b[0m \u001b[32m━━━━━━━━━━━━━━━━━━━━\u001b[0m\u001b[37m\u001b[0m \u001b[1m1245s\u001b[0m 12s/step - loss: 0.2037 - sparse_categorical_accuracy: 0.8680\n"
          ]
        },
        {
          "data": {
            "image/png": "[encoded data removed]",
            "text/plain": [
              "<Figure size 640x480 with 1 Axes>"
            ]
          },
          "metadata": {},
          "output_type": "display_data"
        }
      ],
      "source": [
        "# Configuration\n",
        "model_id = \"gemma_instruct_2b_en\"\n",
        "token_limit = 512\n",
        "num_data_limit = 100  # max number of training samples\n",
        "train_epoch = 5\n",
        "lora_name = \"gemma_mcq_reasoning\"\n",
        "lora_rank = 8\n",
        "\n",
        "# Load model & tokenizer\n",
        "gemma_lm = keras_nlp.models.GemmaCausalLM.from_preset(model_id, load_weights=True)\n",
        "tokenizer = keras_nlp.models.GemmaTokenizer.from_preset(model_id)\n",
        "\n",
        "# Enable LoRA\n",
        "gemma_lm.backbone.enable_lora(rank=lora_rank)\n",
        "\n",
        "# Few-shot examples\n",
        "few_shot_intro = \"\"\"user\n",
        "Question: What causes the phases of the Moon?\n",
        "Options:\n",
        "(A) Earth's shadow\n",
        "(B) Moon's position relative to Earth and Sun\n",
        "(C) Sun's orbit around Earth\n",
        "(D) Rotation of the Moon\n",
        "(E) Earth's spin\n",
        "\n",
        "model\n",
        "The correct answer is B because the Moon’s position relative to the Earth and Sun affects how much light is visible from Earth.\n",
        "\n",
        "user\n",
        "Question: What is gravity?\n",
        "Options:\n",
        "(A) Friction\n",
        "(B) Magnetic force\n",
        "(C) A force that pulls objects together\n",
        "(D) Heat energy\n",
        "(E) Light\n",
        "\n",
        "model\n",
        "The correct answer is C because gravity is the fundamental force of attraction between masses.\"\"\"\n",
        "\n",
        "# Build training samples\n",
        "formatted_examples = []\n",
        "for _, row in df.iterrows():\n",
        "    question = row[\"prompt\"]\n",
        "    options = f\"(A) {row['A']}\\n(B) {row['B']}\\n(C) {row['C']}\\n(D) {row['D']}\\n(E) {row['E']}\"\n",
        "    correct_answer = row[\"answer\"]\n",
        "    reasoning = f\"The correct answer is {correct_answer} because it best fits the question.\"\n",
        "\n",
        "    full_prompt = f\"\"\"{few_shot_intro}\n",
        "\n",
        "user\n",
        "Question: {question}\n",
        "Options:\n",
        "{options}\n",
        "\n",
        "model\n",
        "{reasoning}\"\"\"\n",
        "\n",
        "    if len(tokenizer(full_prompt)) < token_limit:\n",
        "        formatted_examples.append(full_prompt)\n",
        "        if len(formatted_examples) >= num_data_limit:\n",
        "            break\n",
        "\n",
        "# Final training list\n",
        "train = [item for item in formatted_examples if len(tokenizer(item)) < token_limit]\n",
        "\n",
        "# Callback\n",
        "class CustomCallback(keras.callbacks.Callback):\n",
        "    def on_epoch_end(self, epoch, logs=None):\n",
        "        model_path = f\"./drive/MyDrive/gemma_workshop/{lora_name}_{lora_rank}_epoch{epoch+1}.lora.h5\"\n",
        "        gemma_lm.backbone.save_lora_weights(model_path)\n",
        "        print(f\"Saved weights to {model_path}\")\n",
        "\n",
        "        for eval_prompt in [\n",
        "            \"\"\"Question: What causes the phases of the Moon?\n",
        "Options:\n",
        "(A) Earth's shadow\n",
        "(B) Moon's position relative to Earth and Sun\n",
        "(C) Sun's orbit around Earth\n",
        "(D) Rotation of the Moon\n",
        "(E) Earth's spin\n",
        "\"\"\",\n",
        "            \"\"\"Question: What is gravity?\n",
        "Options:\n",
        "(A) Friction\n",
        "(B) Magnetic force\n",
        "(C) A force that pulls objects together\n",
        "(D) Heat energy\n",
        "(E) Light\n",
        "\"\"\"\n",
        "        ]:\n",
        "            output = gemma_lm.generate(eval_prompt.strip(), max_length=256)\n",
        "            print(f\"\\nPrompt:\\n{eval_prompt}\\n\\nGemma Output:\\n{output}\\n{'-'*50}\")\n",
        "\n",
        "# Train\n",
        "history = gemma_lm.fit(train, epochs=train_epoch, batch_size=1, callbacks=[CustomCallback()])\n",
        "\n",
        "# Plot loss\n",
        "plt.plot(history.history['loss'])\n",
        "plt.title(\"Training Loss over Epochs\")\n",
        "plt.xlabel(\"Epoch\")\n",
        "plt.ylabel(\"Loss\")\n",
        "plt.grid(True)\n",
        "plt.show()"
      ]
    },
    {
      "cell_type": "markdown",
      "metadata": {
        "id": "Aw_Bsl2gnSWo"
      },
      "source": [
        "### Quantitative Performance Evaluation\n",
        "\n",
        "| Epoch | Loss    | Accuracy (%) |\n",
        "|-------|---------|--------------|\n",
        "| 1     | 0.6937  | 63.91        |\n",
        "| 2     | 0.4912  | 69.23        |\n",
        "| 3     | 0.3568  | 76.01        |\n",
        "| 4     | 0.2495  | 83.91        |\n",
        "| 5     | 0.2038  | 86.79        |\n",
        "\n",
        "\n",
        "- Loss consistently decreased, indicating improved model confidence\n",
        "\n",
        "- Accuracy rose steadily, suggesting successful generalisation to the task\n",
        "\n",
        "<br>\n",
        "\n",
        "### Qualitative Performance Evaluation\n",
        "\n",
        "1. Consistency and Correctness:\n",
        "\n",
        "- Across all epochs, the correct answer for \"What is gravity?\" was identified as (C) A force that pulls objects together\n",
        "\n",
        "- Similarly, \"What causes the phases of the Moon?\" consistently yielded the correct answer (B)\n",
        "\n",
        "2. Explanation Quality Over Epochs:\n",
        "\n",
        "- Epoch 1–2: Basic correct explanations, a bit repetitive\n",
        "\n",
        "- Epoch 3: Added some confusion (e.g., “When the Moon is between the Sun and Earth, it is visible as a full moon” – this is actually the new moon)\n",
        "\n",
        "- Epoch 4–5: More concise, factual, and confident explanations, though minor factual inaccuracies (e.g., “Gravity binds protons/neutrons in atoms”) appear — this is actually the strong nuclear force's role.\n",
        "\n",
        "3. Issue at Epoch 5:\n",
        "\n",
        "- For: \"What is the purpose of the International Space Station?\"\n",
        "\n",
        "  - Model answered: (B) To provide a platform for astronauts and cosmonauts\n",
        "\n",
        "  - Preferred answer should be: (A) To conduct scientific research, which is its primary purpose.\n",
        "\n",
        "  - The explanation \"it best fits the question\" is vague and not informative.\n",
        "\n",
        "<br>\n",
        "\n",
        "### Adjustments\n",
        "\n",
        "1. Increased token_limits\n",
        "2. Increased lora_rank\n",
        "\n",
        "- These adjustments improved in accuracies and reasoning quality. However, there are still factual inaccuracies and overconfidence on ambiguous or tricky questions\n",
        "\n",
        "<br>\n",
        "\n",
        "### Suggestions:\n",
        "\n",
        "1. Continue fine-tuning with more diverse and challenging MCQs to reduce hallucinations\n",
        "\n",
        "2. Use fact-checking tools in the training loop\n",
        "\n",
        "3. Consider integrating confidence calibration or ranking-based loss to improve decision boundaries on close-call options\n",
        "\n",
        "<br>"
      ]
    },
    {
      "cell_type": "markdown",
      "metadata": {
        "id": "VpmGrkQOIHbK"
      },
      "source": [
        "3. (Optional) **Learning Resources**: Head over to [Gemma Cookbook](https://goo.gle/gemma-cookbook) and explore the available resources. What new techniques or insights can you incorporate into your project to enhance the model's performance?"
      ]
    },
    {
      "cell_type": "markdown",
      "metadata": {
        "id": "NOZvNWxMIKSQ"
      },
      "source": [
        "After exploring the official Gemma documentation and fine-tuning guides, I identified several practical techniques and insights that can enhance my project's performance:\n",
        "\n",
        "1. Gradual layer unfreezing for better adaptation\n",
        "\n",
        "  > Source: [LoRA Fine-tuning](https://ai.google.dev/gemma/docs/core/lora_tuning#lora_fine-tuning)\n",
        "\n",
        "  - Instead of fine-tuning only the LoRA adapters from the start, the documentation suggests gradually unfreezing higher transformation layers after a few epochs\n",
        "\n",
        "  - This can help the model adapt more meaningfully to domain-specific tasks without catastrophic forgetting\n",
        "\n",
        "  <br>\n",
        "\n",
        "2. Use of `bfloat16` or `float16` precision for memory efficiency\n",
        "\n",
        "  > Source: [Colab Fine-tuning Guide](https://gemma-llm.readthedocs.io/en/latest/colab_finetuning.html)\n",
        "\n",
        "  - The guide highlights that enabling `mixed precision` (e.g., `bfloat16`) allows training larger models on limited hardware\n",
        "\n",
        "  - This reduces memory footprint and increases speed, without major accuracy trade-offs\n",
        "\n",
        "  <br>\n",
        "\n",
        "3. Leverage JAX + TPU for efficient training\n",
        "\n",
        "  > Source: [Distributed Tuning](https://ai.google.dev/gemma/docs/core/distributed_tuning)\n",
        "\n",
        "  - My fine-tuning was performed on a v2-8 TPU with JAX backend, which is ideal for parallel training with large models\n",
        "\n",
        "  - The Gemma guide emphasises using pmap or pjit for further performance optimisation on TPU clusters\n",
        "\n",
        "  <br>\n",
        "\n",
        "4. Prompt Adaptation without Fine-tuning (LoRA + Prompt)\n",
        "\n",
        "  - A lighter alternative to full fine-tuning is prompt adaptation: using well-crafted prompts in combination with LoRA weights\n",
        "\n",
        "  - This technique enables faster iterations and dynamic domain adaptation without re-training the whole model\n"
      ]
    }
  ],
  "metadata": {
    "accelerator": "TPU",
    "colab": {
      "gpuType": "V28",
      "machine_shape": "hm",
      "provenance": []
    },
    "kernelspec": {
      "display_name": "base",
      "language": "python",
      "name": "python3"
    },
    "language_info": {
      "codemirror_mode": {
        "name": "ipython",
        "version": 3
      },
      "file_extension": ".py",
      "mimetype": "text/x-python",
      "name": "python",
      "nbconvert_exporter": "python",
      "pygments_lexer": "ipython3",
      "version": "3.12.2"
    }
  },
  "nbformat": 4,
  "nbformat_minor": 0
}
